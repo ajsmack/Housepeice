{
  "nbformat": 4,
  "nbformat_minor": 0,
  "metadata": {
    "colab": {
      "name": "assingment.ipynb",
      "provenance": [],
      "collapsed_sections": [],
      "toc_visible": true,
      "authorship_tag": "ABX9TyPF1ADGmduZLWXGP2iRK+JL",
      "include_colab_link": true
    },
    "kernelspec": {
      "name": "python3",
      "display_name": "Python 3"
    }
  },
  "cells": [
    {
      "cell_type": "markdown",
      "metadata": {
        "id": "view-in-github",
        "colab_type": "text"
      },
      "source": [
        "<a href=\"https://colab.research.google.com/github/ajsmack/Housepeice/blob/main/assingment.ipynb\" target=\"_parent\"><img src=\"https://colab.research.google.com/assets/colab-badge.svg\" alt=\"Open In Colab\"/></a>"
      ]
    },
    {
      "cell_type": "code",
      "metadata": {
        "id": "zi2-U6hDIyGH"
      },
      "source": [
        "from bs4 import BeautifulSoup \n",
        "import requests \n",
        "import csv\n",
        "import pandas as pd"
      ],
      "execution_count": null,
      "outputs": []
    },
    {
      "cell_type": "code",
      "metadata": {
        "id": "CFfPHNxilNyd"
      },
      "source": [
        " \n",
        "report_title =[]\n",
        "date_published =[]\n",
        "links =[]\n",
        "report_description =[]\n",
        "pages = list(range(1,21))\n",
        "for page in pages:\n",
        "    req = requests.get(\"https://www.marketsandmarkets.com/telecom-and-IT-market-research-113_={}\".format(page)).text\n",
        "    \n",
        "    soup = BeautifulSoup(req,'html.parser')\n",
        "    tit_report = soup.find_all('Div',id=\"publishedreports\")\n",
        "    tit_report = soup.find_all('table')\n",
        "    tit_report = soup.find_all('tbody')\n",
        "    tit_report = soup.find_all('tr',class_=\"alt\")\n",
        "    tit_report = soup.find_all('tr',class_=\"alt\")\n",
        "    tit_report = soup.find_all('td',class_=\"displaynone\")\n",
        "    tit_report = soup.find_all('h3',align=\"justify\")\n",
        "    for i in range(len(tit_report)):\n",
        "        tit_report[i].text\n",
        "        report_title.append(tit_report[i].text)\n",
        " \n",
        "    link = soup.find_all('div',id=\"publishedreports\")\n",
        "    link = soup.find_all('table')\n",
        "    link = soup.find_all('tbody')\n",
        "    link = soup.find_all('tr',class_=\"alt\")\n",
        "    link = soup.find_all('tr',class_=\"alt\")\n",
        "    link = soup.find_all('td',class_=\"displaynone\")\n",
        "    link = soup.find_all('h3',align=\"justify\")\n",
        "    for i in link:\n",
        "      if i.find('a'):\n",
        "        links.append(str(\"https://www.marketsandmarkets.com/\")+i.find('a')['href'])    \n",
        " \n",
        "    rep_description = soup.find_all('div',id=\"publishedreports\")\n",
        "    rep_description = soup.find_all('table')\n",
        "    rep_description = soup.find_all('tbody')\n",
        "    rep_description = soup.find_all('tr',class_=\"alt\")\n",
        "    rep_description = soup.find_all('tr',class_=\"alt\")\n",
        "    rep_description = soup.find_all('td',class_=\"displaynone\")\n",
        "    rep_description = soup.find_all('h3',align=\"justify\")\n",
        "    rep_description = soup.find_all('p',align=\"justify\")\n",
        "    for i in range(len(rep_description)):\n",
        "        rep_description[i].text\n",
        "        report_description.append(rep_description[i].text)\n",
        " \n",
        "    dat_published = soup.find_all('div',id=\"publishedreports\")\n",
        "    dat_published = soup.find_all('table')\n",
        "    dat_published = soup.find_all('tbody')\n",
        "    dat_published = soup.find_all('tr',class_=\"alt\")\n",
        "    dat_published = soup.find_all('tr',class_=\"alt\")\n",
        "    dat_published = soup.find_all('td',class_=\"displaynone\")\n",
        "    dat_published = soup.find_all('h3',align=\"justify\")\n",
        "    dat_published = soup.find_all('p',align=\"justify\")\n",
        "    dat_published = soup.find_all('td', class_ = \"displaynone\",valign=\"top\",align=\"center\")\n",
        "    for i in range(len(dat_published)):\n",
        "        dat_published[i].text.split('\\n')\n",
        "        date_published.append(dat_published[i].text)"
      ],
      "execution_count": null,
      "outputs": []
    },
    {
      "cell_type": "code",
      "metadata": {
        "id": "MqfjXO3w0G1H"
      },
      "source": [
        "USD_Value1 = []\n",
        "for txt in report_description:\n",
        "  import re\n",
        "  m = re.search(\"USD\",txt)\n",
        "  if m==None:\n",
        "    value = \"null\"\n",
        "    USD_Value1.append(value)\n",
        "  else:\n",
        "    s = m.start()\n",
        "    e = s+15\n",
        "    sd = txt[s:e]\n",
        "    USD_Value1.append(sd)"
      ],
      "execution_count": null,
      "outputs": []
    },
    {
      "cell_type": "code",
      "metadata": {
        "id": "mnkHoW3ojhLI"
      },
      "source": [
        "USD_Value2 = []\n",
        "for txt in report_description:\n",
        "  import re\n",
        "  m = re.search(\"of \\d{2,3}\",txt)\n",
        "  if m==None:\n",
        "    value = \"null\"\n",
        "    USD_Value2.append(value)\n",
        "  else:\n",
        "    s = m.start()\n",
        "    e = s+8\n",
        "    sd = txt[s:e]\n",
        "    USD_Value2.append(sd.lstrip(\"\").split('of'))"
      ],
      "execution_count": null,
      "outputs": []
    },
    {
      "cell_type": "code",
      "metadata": {
        "id": "EIqYnnaSRceB"
      },
      "source": [
        "import pandas as pd\n",
        "df1  = pd.DataFrame(report_title, columns=[\"report_title\"])"
      ],
      "execution_count": null,
      "outputs": []
    },
    {
      "cell_type": "code",
      "metadata": {
        "id": "2v0KTQffYvak"
      },
      "source": [
        "df2  = pd.DataFrame(report_description,columns=[\"report_description\"])"
      ],
      "execution_count": null,
      "outputs": []
    },
    {
      "cell_type": "code",
      "metadata": {
        "id": "78jM0SXeLMWP"
      },
      "source": [
        "df3  = pd.DataFrame(links,columns=[\"links\"])"
      ],
      "execution_count": null,
      "outputs": []
    },
    {
      "cell_type": "code",
      "metadata": {
        "id": "rxGmG8O9anJe"
      },
      "source": [
        "df5 = pd.DataFrame(date_published)\n",
        "df5[\"date_published\"] =df5\n",
        "del df5[0]\n",
        "df6 = df5.iloc[::3]"
      ],
      "execution_count": null,
      "outputs": []
    },
    {
      "cell_type": "code",
      "metadata": {
        "id": "fpcxVaiPbYNM"
      },
      "source": [
        "df6 = df6.replace('\\n','', regex=True)"
      ],
      "execution_count": null,
      "outputs": []
    },
    {
      "cell_type": "code",
      "metadata": {
        "id": "924BuRjkgRw-"
      },
      "source": [
        "df7 = df6.reset_index().drop('index',axis=1)"
      ],
      "execution_count": null,
      "outputs": []
    },
    {
      "cell_type": "code",
      "metadata": {
        "id": "uhTMvGeagT9T"
      },
      "source": [
        "df8 = pd.DataFrame(USD_Value1, columns=[\"USD_values\"])"
      ],
      "execution_count": null,
      "outputs": []
    },
    {
      "cell_type": "code",
      "metadata": {
        "id": "fKsmCU-0nddK"
      },
      "source": [
        "df9 = pd.DataFrame(USD_Value2)"
      ],
      "execution_count": null,
      "outputs": []
    },
    {
      "cell_type": "code",
      "metadata": {
        "id": "xtLDgxumUgWl"
      },
      "source": [
        "df10 = df9.drop([0,2,3],axis=1)"
      ],
      "execution_count": null,
      "outputs": []
    },
    {
      "cell_type": "code",
      "metadata": {
        "id": "tBlTEiCbUhIN"
      },
      "source": [
        "df10"
      ],
      "execution_count": null,
      "outputs": []
    },
    {
      "cell_type": "code",
      "metadata": {
        "id": "YLSeqZUrUbLF"
      },
      "source": [
        "df = pd.concat(([df1, df2,df3,df7,df10]),axis = 1)"
      ],
      "execution_count": null,
      "outputs": []
    },
    {
      "cell_type": "code",
      "metadata": {
        "colab": {
          "base_uri": "https://localhost:8080/",
          "height": 402
        },
        "id": "cuCVjeixrs8P",
        "outputId": "147729c4-cd69-461a-d18e-35de0114fb5e"
      },
      "source": [
        "df"
      ],
      "execution_count": null,
      "outputs": [
        {
          "output_type": "execute_result",
          "data": {
            "text/html": [
              "<div>\n",
              "<style scoped>\n",
              "    .dataframe tbody tr th:only-of-type {\n",
              "        vertical-align: middle;\n",
              "    }\n",
              "\n",
              "    .dataframe tbody tr th {\n",
              "        vertical-align: top;\n",
              "    }\n",
              "\n",
              "    .dataframe thead th {\n",
              "        text-align: right;\n",
              "    }\n",
              "</style>\n",
              "<table border=\"1\" class=\"dataframe\">\n",
              "  <thead>\n",
              "    <tr style=\"text-align: right;\">\n",
              "      <th></th>\n",
              "      <th>report_title</th>\n",
              "      <th>report_description</th>\n",
              "      <th>links</th>\n",
              "      <th>date_published</th>\n",
              "      <th>1</th>\n",
              "    </tr>\n",
              "  </thead>\n",
              "  <tbody>\n",
              "    <tr>\n",
              "      <th>0</th>\n",
              "      <td>Chatbot Market by Component, Type (Rule Based ...</td>\n",
              "      <td>The Chatbot Market is expected to grow from US...</td>\n",
              "      <td>https://www.marketsandmarkets.com//Market-Repo...</td>\n",
              "      <td>March 2021</td>\n",
              "      <td>23.5%</td>\n",
              "    </tr>\n",
              "    <tr>\n",
              "      <th>1</th>\n",
              "      <td>Logistics Automation Market by Component, Func...</td>\n",
              "      <td>The Logistics Automation Market is expected to...</td>\n",
              "      <td>https://www.marketsandmarkets.com//Market-Repo...</td>\n",
              "      <td>March 2021</td>\n",
              "      <td>10.6%</td>\n",
              "    </tr>\n",
              "    <tr>\n",
              "      <th>2</th>\n",
              "      <td>Green Data Center Market by Component (Solutio...</td>\n",
              "      <td>The green data center market is expected to gr...</td>\n",
              "      <td>https://www.marketsandmarkets.com//Market-Repo...</td>\n",
              "      <td>March 2021</td>\n",
              "      <td>19.1%</td>\n",
              "    </tr>\n",
              "    <tr>\n",
              "      <th>3</th>\n",
              "      <td>AI Governance Market by Component (Solutions (...</td>\n",
              "      <td>The AI Governance Market is expected to grow f...</td>\n",
              "      <td>https://www.marketsandmarkets.com//Market-Repo...</td>\n",
              "      <td>March 2021</td>\n",
              "      <td>65.5%</td>\n",
              "    </tr>\n",
              "    <tr>\n",
              "      <th>4</th>\n",
              "      <td>Simulation Software Market by Component (Softw...</td>\n",
              "      <td>The global simulation software market size is ...</td>\n",
              "      <td>https://www.marketsandmarkets.com//Market-Repo...</td>\n",
              "      <td>March 2021</td>\n",
              "      <td>13.2%</td>\n",
              "    </tr>\n",
              "    <tr>\n",
              "      <th>...</th>\n",
              "      <td>...</td>\n",
              "      <td>...</td>\n",
              "      <td>...</td>\n",
              "      <td>...</td>\n",
              "      <td>...</td>\n",
              "    </tr>\n",
              "    <tr>\n",
              "      <th>995</th>\n",
              "      <td>Smart Buildings Market by Component (Solution ...</td>\n",
              "      <td>The Smart Buildings Market is expected to grow...</td>\n",
              "      <td>https://www.marketsandmarkets.com//Market-Repo...</td>\n",
              "      <td>January 2021</td>\n",
              "      <td>10.5%</td>\n",
              "    </tr>\n",
              "    <tr>\n",
              "      <th>996</th>\n",
              "      <td>5G Core Market by Component (Solutions and Ser...</td>\n",
              "      <td>The global 5G core market size is projected to...</td>\n",
              "      <td>https://www.marketsandmarkets.com//Market-Repo...</td>\n",
              "      <td>January 2021</td>\n",
              "      <td>72.0%</td>\n",
              "    </tr>\n",
              "    <tr>\n",
              "      <th>997</th>\n",
              "      <td>Agriculture Analytics Market by Application Ar...</td>\n",
              "      <td>The global agriculture analytics market size i...</td>\n",
              "      <td>https://www.marketsandmarkets.com//Market-Repo...</td>\n",
              "      <td>January 2021</td>\n",
              "      <td>12.2%</td>\n",
              "    </tr>\n",
              "    <tr>\n",
              "      <th>998</th>\n",
              "      <td>Product Information Management (PIM) Market by...</td>\n",
              "      <td>The Product Information Management (PIM) Marke...</td>\n",
              "      <td>https://www.marketsandmarkets.com//Market-Repo...</td>\n",
              "      <td>December 2020</td>\n",
              "      <td>12.2%</td>\n",
              "    </tr>\n",
              "    <tr>\n",
              "      <th>999</th>\n",
              "      <td>Influencer Marketing Platform Market by Compon...</td>\n",
              "      <td>The global Influencer marketing platform marke...</td>\n",
              "      <td>https://www.marketsandmarkets.com//Market-Repo...</td>\n",
              "      <td>December 2020</td>\n",
              "      <td>32.0%</td>\n",
              "    </tr>\n",
              "  </tbody>\n",
              "</table>\n",
              "<p>1000 rows × 5 columns</p>\n",
              "</div>"
            ],
            "text/plain": [
              "                                          report_title  ...       1\n",
              "0    Chatbot Market by Component, Type (Rule Based ...  ...   23.5%\n",
              "1    Logistics Automation Market by Component, Func...  ...   10.6%\n",
              "2    Green Data Center Market by Component (Solutio...  ...   19.1%\n",
              "3    AI Governance Market by Component (Solutions (...  ...   65.5%\n",
              "4    Simulation Software Market by Component (Softw...  ...   13.2%\n",
              "..                                                 ...  ...     ...\n",
              "995  Smart Buildings Market by Component (Solution ...  ...   10.5%\n",
              "996  5G Core Market by Component (Solutions and Ser...  ...   72.0%\n",
              "997  Agriculture Analytics Market by Application Ar...  ...   12.2%\n",
              "998  Product Information Management (PIM) Market by...  ...   12.2%\n",
              "999  Influencer Marketing Platform Market by Compon...  ...   32.0%\n",
              "\n",
              "[1000 rows x 5 columns]"
            ]
          },
          "metadata": {
            "tags": []
          },
          "execution_count": 257
        }
      ]
    },
    {
      "cell_type": "code",
      "metadata": {
        "id": "2erNnhDZrt3u"
      },
      "source": [
        "df11 = df.rename(columns = {1: '%_values'}, inplace = False)"
      ],
      "execution_count": null,
      "outputs": []
    },
    {
      "cell_type": "code",
      "metadata": {
        "colab": {
          "base_uri": "https://localhost:8080/",
          "height": 402
        },
        "id": "-UF3s5LYskro",
        "outputId": "776a6724-74dc-46a9-f047-86a8d2c2cc41"
      },
      "source": [
        "df11"
      ],
      "execution_count": null,
      "outputs": [
        {
          "output_type": "execute_result",
          "data": {
            "text/html": [
              "<div>\n",
              "<style scoped>\n",
              "    .dataframe tbody tr th:only-of-type {\n",
              "        vertical-align: middle;\n",
              "    }\n",
              "\n",
              "    .dataframe tbody tr th {\n",
              "        vertical-align: top;\n",
              "    }\n",
              "\n",
              "    .dataframe thead th {\n",
              "        text-align: right;\n",
              "    }\n",
              "</style>\n",
              "<table border=\"1\" class=\"dataframe\">\n",
              "  <thead>\n",
              "    <tr style=\"text-align: right;\">\n",
              "      <th></th>\n",
              "      <th>report_title</th>\n",
              "      <th>report_description</th>\n",
              "      <th>links</th>\n",
              "      <th>date_published</th>\n",
              "      <th>%_values</th>\n",
              "    </tr>\n",
              "  </thead>\n",
              "  <tbody>\n",
              "    <tr>\n",
              "      <th>0</th>\n",
              "      <td>Chatbot Market by Component, Type (Rule Based ...</td>\n",
              "      <td>The Chatbot Market is expected to grow from US...</td>\n",
              "      <td>https://www.marketsandmarkets.com//Market-Repo...</td>\n",
              "      <td>March 2021</td>\n",
              "      <td>23.5%</td>\n",
              "    </tr>\n",
              "    <tr>\n",
              "      <th>1</th>\n",
              "      <td>Logistics Automation Market by Component, Func...</td>\n",
              "      <td>The Logistics Automation Market is expected to...</td>\n",
              "      <td>https://www.marketsandmarkets.com//Market-Repo...</td>\n",
              "      <td>March 2021</td>\n",
              "      <td>10.6%</td>\n",
              "    </tr>\n",
              "    <tr>\n",
              "      <th>2</th>\n",
              "      <td>Green Data Center Market by Component (Solutio...</td>\n",
              "      <td>The green data center market is expected to gr...</td>\n",
              "      <td>https://www.marketsandmarkets.com//Market-Repo...</td>\n",
              "      <td>March 2021</td>\n",
              "      <td>19.1%</td>\n",
              "    </tr>\n",
              "    <tr>\n",
              "      <th>3</th>\n",
              "      <td>AI Governance Market by Component (Solutions (...</td>\n",
              "      <td>The AI Governance Market is expected to grow f...</td>\n",
              "      <td>https://www.marketsandmarkets.com//Market-Repo...</td>\n",
              "      <td>March 2021</td>\n",
              "      <td>65.5%</td>\n",
              "    </tr>\n",
              "    <tr>\n",
              "      <th>4</th>\n",
              "      <td>Simulation Software Market by Component (Softw...</td>\n",
              "      <td>The global simulation software market size is ...</td>\n",
              "      <td>https://www.marketsandmarkets.com//Market-Repo...</td>\n",
              "      <td>March 2021</td>\n",
              "      <td>13.2%</td>\n",
              "    </tr>\n",
              "    <tr>\n",
              "      <th>...</th>\n",
              "      <td>...</td>\n",
              "      <td>...</td>\n",
              "      <td>...</td>\n",
              "      <td>...</td>\n",
              "      <td>...</td>\n",
              "    </tr>\n",
              "    <tr>\n",
              "      <th>995</th>\n",
              "      <td>Smart Buildings Market by Component (Solution ...</td>\n",
              "      <td>The Smart Buildings Market is expected to grow...</td>\n",
              "      <td>https://www.marketsandmarkets.com//Market-Repo...</td>\n",
              "      <td>January 2021</td>\n",
              "      <td>10.5%</td>\n",
              "    </tr>\n",
              "    <tr>\n",
              "      <th>996</th>\n",
              "      <td>5G Core Market by Component (Solutions and Ser...</td>\n",
              "      <td>The global 5G core market size is projected to...</td>\n",
              "      <td>https://www.marketsandmarkets.com//Market-Repo...</td>\n",
              "      <td>January 2021</td>\n",
              "      <td>72.0%</td>\n",
              "    </tr>\n",
              "    <tr>\n",
              "      <th>997</th>\n",
              "      <td>Agriculture Analytics Market by Application Ar...</td>\n",
              "      <td>The global agriculture analytics market size i...</td>\n",
              "      <td>https://www.marketsandmarkets.com//Market-Repo...</td>\n",
              "      <td>January 2021</td>\n",
              "      <td>12.2%</td>\n",
              "    </tr>\n",
              "    <tr>\n",
              "      <th>998</th>\n",
              "      <td>Product Information Management (PIM) Market by...</td>\n",
              "      <td>The Product Information Management (PIM) Marke...</td>\n",
              "      <td>https://www.marketsandmarkets.com//Market-Repo...</td>\n",
              "      <td>December 2020</td>\n",
              "      <td>12.2%</td>\n",
              "    </tr>\n",
              "    <tr>\n",
              "      <th>999</th>\n",
              "      <td>Influencer Marketing Platform Market by Compon...</td>\n",
              "      <td>The global Influencer marketing platform marke...</td>\n",
              "      <td>https://www.marketsandmarkets.com//Market-Repo...</td>\n",
              "      <td>December 2020</td>\n",
              "      <td>32.0%</td>\n",
              "    </tr>\n",
              "  </tbody>\n",
              "</table>\n",
              "<p>1000 rows × 5 columns</p>\n",
              "</div>"
            ],
            "text/plain": [
              "                                          report_title  ... %_values\n",
              "0    Chatbot Market by Component, Type (Rule Based ...  ...    23.5%\n",
              "1    Logistics Automation Market by Component, Func...  ...    10.6%\n",
              "2    Green Data Center Market by Component (Solutio...  ...    19.1%\n",
              "3    AI Governance Market by Component (Solutions (...  ...    65.5%\n",
              "4    Simulation Software Market by Component (Softw...  ...    13.2%\n",
              "..                                                 ...  ...      ...\n",
              "995  Smart Buildings Market by Component (Solution ...  ...    10.5%\n",
              "996  5G Core Market by Component (Solutions and Ser...  ...    72.0%\n",
              "997  Agriculture Analytics Market by Application Ar...  ...    12.2%\n",
              "998  Product Information Management (PIM) Market by...  ...    12.2%\n",
              "999  Influencer Marketing Platform Market by Compon...  ...    32.0%\n",
              "\n",
              "[1000 rows x 5 columns]"
            ]
          },
          "metadata": {
            "tags": []
          },
          "execution_count": 259
        }
      ]
    },
    {
      "cell_type": "code",
      "metadata": {
        "id": "catvICATs3EO"
      },
      "source": [
        "data = df11.to_csv('output.csv', index=False) "
      ],
      "execution_count": null,
      "outputs": []
    },
    {
      "cell_type": "code",
      "metadata": {
        "id": "uC7OYGHOuK53"
      },
      "source": [
        ""
      ],
      "execution_count": null,
      "outputs": []
    }
  ]
}